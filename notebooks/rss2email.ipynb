{
 "cells": [
  {
   "cell_type": "code",
   "execution_count": null,
   "id": "8884c899",
   "metadata": {},
   "outputs": [],
   "source": [
    "import os\n",
    "from dotenv import load_dotenv\n",
    "load_dotenv()\n",
    "os.environ.get('SENDGRID_ALT_KEY')"
   ]
  },
  {
   "cell_type": "code",
   "execution_count": null,
   "id": "04ca7b21",
   "metadata": {},
   "outputs": [],
   "source": [
    "import sendgrid\n",
    "import os\n",
    "from dotenv import load_dotenv\n",
    "load_dotenv()\n",
    "sg = sendgrid.SendGridAPIClient(os.environ.get('SENDGRID_API_KEY'))\n"
   ]
  },
  {
   "cell_type": "code",
   "execution_count": 12,
   "id": "c068bda2",
   "metadata": {},
   "outputs": [
    {
     "name": "stdout",
     "output_type": "stream",
     "text": [
      "200\n"
     ]
    }
   ],
   "source": [
    "# test SendGrid mailing list operations\n",
    "import sendgrid\n",
    "import os\n",
    "from dotenv import load_dotenv\n",
    "load_dotenv()\n",
    "sg = sendgrid.SendGridAPIClient(os.environ.get('SENDGRID_API_KEY'))\n",
    "params = {'page': 1, 'page_size': 1}\n",
    "response = sg.client.contactdb.recipients.get(query_params=params)\n",
    "print(response.status_code)\n",
    "#print(response.body)\n",
    "#print(response.headers)\n"
   ]
  },
  {
   "cell_type": "code",
   "execution_count": null,
   "id": "f3c265d2",
   "metadata": {},
   "outputs": [],
   "source": [
    "# Sendgrid retrieve recipients\n",
    "import json\n",
    "params = {'page':1, 'page_size':1}\n",
    "response = sg.client.contactdb.recipients.get(query_params=params)\n",
    "print(response.status_code)\n",
    "contacts = json.loads(response.body)\n",
    "emails = [recipient['email'] for recipient in contacts['recipients']]\n",
    "emails"
   ]
  },
  {
   "cell_type": "code",
   "execution_count": 13,
   "id": "470d9c58",
   "metadata": {},
   "outputs": [
    {
     "name": "stdout",
     "output_type": "stream",
     "text": [
      "200\n",
      "b'{\"recipient_count\":1}\\n'\n"
     ]
    }
   ],
   "source": [
    "response = sg.client.contactdb.recipients.count.get()\n",
    "print(response.status_code)\n",
    "print(response.body)"
   ]
  },
  {
   "cell_type": "markdown",
   "id": "d49c70c4",
   "metadata": {},
   "source": [
    "parse index.xml to get latest feed item"
   ]
  },
  {
   "cell_type": "code",
   "execution_count": null,
   "id": "85797e3d",
   "metadata": {},
   "outputs": [],
   "source": [
    "import feedparser\n",
    "\n",
    "feed = feedparser.parse('../docs/index.xml')\n",
    "newsletter = feed.entries[0]\n",
    "print(newsletter.title)\n",
    "print(newsletter.description)"
   ]
  },
  {
   "cell_type": "code",
   "execution_count": null,
   "id": "6c7c7e1d",
   "metadata": {},
   "outputs": [],
   "source": [
    "import re\n",
    "from bs4 import BeautifulSoup\n",
    "soup = BeautifulSoup(newsletter.description, 'html.parser')\n",
    "sections = soup.find_all('section')\n",
    "subject = '\"subject\": \"' + newsletter.title + '\"'\n",
    "introduction = '\"introduction\":' + '[' + \",\".join([ '{\"p\":\"' + re.sub(r'\"', r'\\\"', str(p))  + '\"}' for p in reversed(sections[0].find_previous_siblings('p'))]) + ']'\n",
    "#section = '\"sections\":' + '[' + \",\".join([ '{\"section\":\"' + re.sub(r'\"', r'\\\"', str(s)) + '\"}' for s in sections]) + ']'\n",
    "section = []\n",
    "for s in sections:\n",
    "    heading = '\"heading\": \"' + re.sub(r'\"', r'\\\"', str(s.find('h3'))) + '\"'\n",
    "    description = '\"description\": \"' + str(s.find('p')) + '\"'\n",
    "    paragraphs = '\"paragraphs\":' + '[' + \",\".join([ '{\"p\":\"' + re.sub(r'\"', r'\\\"', str(p))  + '\"}' for p in s.find('p').find_next_siblings('p')]) + ']'\n",
    "    sec = '{\"section\": {' + heading + ', ' + description + ', ' + paragraphs + '}}'\n",
    "    section.append(sec)\n",
    "h_sections = '\"sections\": [' + \",\".join(section) + ']'\n",
    "handlebar = '{' + subject + ', ' + introduction + ', ' + h_sections + '}'\n",
    "print(handlebar)\n"
   ]
  },
  {
   "cell_type": "code",
   "execution_count": null,
   "id": "e75042f2",
   "metadata": {},
   "outputs": [
    {
     "name": "stdout",
     "output_type": "stream",
     "text": [
      "202 jared.micklos@gmail.com\n",
      "202 jay.berhalter.work@gmail.com\n",
      "202 robbins_p@msn.com\n",
      "202 jstenger@uvm.edu\n"
     ]
    }
   ],
   "source": [
    "import sendgrid\n",
    "import os\n",
    "from sendgrid.helpers.mail import *\n",
    "from dotenv import load_dotenv\n",
    "load_dotenv()\n",
    "emails = [] #..fill as needed\n",
    "for email in emails:\n",
    "\tsg = sendgrid.SendGridAPIClient(os.environ.get('SENDGRID_API_KEY'))\n",
    "\tmessage = Mail(from_email=os.environ.get('SENDGRID_SENDER_EMAIL'), to_emails=email)\n",
    "\tmessage.dynamic_template_data = eval(handlebar)\n",
    "\tmessage.template_id = os.environ.get('SENDGRID_TEMPLATE_ID')\n",
    "\tresponse = sg.send(message)\n",
    "\tprint(response.status_code, email)"
   ]
  }
 ],
 "metadata": {
  "kernelspec": {
   "display_name": "quarto",
   "language": "python",
   "name": "python3"
  },
  "language_info": {
   "codemirror_mode": {
    "name": "ipython",
    "version": 3
   },
   "file_extension": ".py",
   "mimetype": "text/x-python",
   "name": "python",
   "nbconvert_exporter": "python",
   "pygments_lexer": "ipython3",
   "version": "3.12.9"
  }
 },
 "nbformat": 4,
 "nbformat_minor": 5
}
