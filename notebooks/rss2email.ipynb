{
 "cells": [
  {
   "cell_type": "code",
   "execution_count": null,
   "id": "8884c899",
   "metadata": {},
   "outputs": [],
   "source": [
    "import os\n",
    "from dotenv import load_dotenv\n",
    "load_dotenv()\n",
    "os.environ.get('SENDGRID_ALT_KEY')"
   ]
  },
  {
   "cell_type": "code",
   "execution_count": 2,
   "id": "04ca7b21",
   "metadata": {},
   "outputs": [],
   "source": [
    "import sendgrid\n",
    "import os\n",
    "from dotenv import load_dotenv\n",
    "load_dotenv()\n",
    "sg = sendgrid.SendGridAPIClient(os.environ.get('SENDGRID_API_KEY'))\n"
   ]
  },
  {
   "cell_type": "code",
   "execution_count": null,
   "id": "c068bda2",
   "metadata": {},
   "outputs": [],
   "source": [
    "# test SendGrid mailing list operations\n",
    "import sendgrid\n",
    "import os\n",
    "from dotenv import load_dotenv\n",
    "load_dotenv()\n",
    "sg = sendgrid.SendGridAPIClient(os.environ.get('SENDGRID_API_KEY'))\n",
    "params = {'page': 1, 'page_size': 1}\n",
    "response = sg.client.contactdb.recipients.get(query_params=params)\n",
    "print(response.status_code)\n",
    "#print(response.body)\n",
    "#print(response.headers)\n"
   ]
  },
  {
   "cell_type": "code",
   "execution_count": null,
   "id": "f3c265d2",
   "metadata": {},
   "outputs": [],
   "source": [
    "# Sendgrid retrieve recipients\n",
    "import json\n",
    "params = {'page':1, 'page_size':1}\n",
    "response = sg.client.contactdb.recipients.get(query_params=params)\n",
    "print(response.status_code)\n",
    "contacts = json.loads(response.body)\n",
    "emails = [recipient['email'] for recipient in contacts['recipients']]\n",
    "emails"
   ]
  },
  {
   "cell_type": "code",
   "execution_count": null,
   "id": "470d9c58",
   "metadata": {},
   "outputs": [],
   "source": [
    "response = sg.client.contactdb.recipients.count.get()\n",
    "print(response.status_code)\n",
    "print(response.body)"
   ]
  },
  {
   "cell_type": "markdown",
   "id": "d49c70c4",
   "metadata": {},
   "source": [
    "parse index.xml to get latest feed item"
   ]
  },
  {
   "cell_type": "code",
   "execution_count": null,
   "id": "85797e3d",
   "metadata": {},
   "outputs": [],
   "source": [
    "import feedparser\n",
    "\n",
    "feed = feedparser.parse('../docs/index.xml')\n",
    "newsletter = feed.entries[0]\n",
    "print(newsletter.title)\n",
    "print(newsletter.description)"
   ]
  },
  {
   "cell_type": "code",
   "execution_count": null,
   "id": "6c7c7e1d",
   "metadata": {},
   "outputs": [
    {
     "name": "stdout",
     "output_type": "stream",
     "text": [
      "{\"subject\": \"ADCN: Journaling, Stacks vs. Open, Big Data Bowl\", \"introduction\":[], \"sections\": [{\"section\": {\"heading\": \"<h3 class=\\\"anchored\\\">Journaling with Wearables</h3>\", \"description\": \"<p>“Expert in yourself” is not yet a norm but among high achievers in business and sports it is headed that way. Type A personalities drive the connection between data and habits since the technology is not quite easy enough to use. Call this stuff more of a really-want-to than a need-to at this point but the utility (and probably usability too) increasing dramatically as the benefit to cost ratio increases in the near future. Read on for why the big benefits are coming, and for why personal privacy is a factor.</p>\", \"paragraphs\":[{\"p\":\"<p>Habits are personal behaviors. They defy universal generalization but there is <a href=\\\"https://knowledge.wharton.upenn.edu/podcast/this-week-in-business/what-machine-learning-reveals-about-forming-a-healthy-habit/\\\">an emerging consensus</a> that gaining some habits (like gym-going) are harder and gaining other habits (like hand-washing) are easier. Self-awareness about what’s healthy, productive, or both healthy and productive, might be the shortest path for someone trying to make a habit out of good habits. <a href=\\\"https://highschool.latimes.com/opinion/review-the-power-of-tiny-wins-what-atomic-habits-taught-me-about-change/\\\">Atomic Habits</a>, as put forward by author James Clear, is less a personal guide to habit-formation than it is a guide to self- and environmental-awareness so that you can give yourself the best chance to succeed at habit change.</p>\"},{\"p\":\"<p>High achievers often execute on a long development arc. It is not just talent, there is also an endurance factor where sustained improvement progresses year-over-year, sometimes decade-over-decade. No short cuts. Work life incorporates personal habits and self-expertise. Overall, self-knowledge takes guesswork out of finding effective collaborators and, when there is no collaboration, self-fulfillment plugs any gaps with still more self-development productivity.</p>\"},{\"p\":\"<p>A <a href=\\\"https://www.nytimes.com/athletic/6665943/2025/09/29/sports-training-cla-coaching-wembanyana-ohtani/\\\">constraints-led approach</a> (CLA) to training is learning methodology that attempts to expedite high-level skill development by imposing constraints. The thoughtful design of the constraints comes from a coach or trainer who knows CLA and perception-action coupling, a kind of meta-cognition where sensemaking in a realistic and constrained training scenario informs future behavior. It’s a higher-order habit meant to create situational preparedness in high-pressure, complex, future settings.</p>\"},{\"p\":\"<p>What if you just want to eat less bacon, or improve sleep hygiene? Garmin recently <a href=\\\"https://www.dcrainmaker.com/2025/09/lifestyle-logging-journaling-health-status-vs-whoop-everything.html\\\">added</a> a “Life Logging” feature to many of the company’s recent edition sport watches. The feature matches a popular aspect of Whoop biometric-tracking bracelets. The on-screen reminders delivered to your watch attach information to a wide range of daily (the typical time interval) wellness observables. The lightweight interaction is a straightforward way to connect behavior to performance when the goal is to change both of those things. <a href=\\\"https://www.nytimes.com/2025/09/27/business/oura-ring-tom-hale.html\\\">Reporting</a> by The New York Times suggests that high-performing business executives are doing something like this with Oura rings.</p>\"},{\"p\":\"<p>Research technologies are coming that will reduce the cognitive overhead for tracking and adopting habits. <a href=\\\"https://news.feinberg.northwestern.edu/2025/09/19/wearable-sensors-could-reshape-obesity-treatment/\\\">Northwestern researchers</a> combine 2 wearables (wrist + necklace), 1 body camera, and a phone app to thoroughly document research subjects’ eating habits. The system gets high-fidelity gesture data from the wearables, and the body camera also recognizes activity signatures that are unique to eating. The product of this research is an effective diagnostic, showing that overeating takes multiple forms and the patterns have emotional, behavioral and contextual dimensions. Work continues, and the hope is for clinicians to use these same tools for personalization and support to enable habit changes.</p>\"},{\"p\":\"<p><a href=\\\"https://www.myfoodrepo.ai/en/blog/introducing-hei-41bb6181-237a-4acf-b94f-64d0badf6fb8\\\">MyFoodRepo</a> is a picture-based meal-tracking app developed by Marcel Salathe and his team at EPFL in Switzerland. The researchers combined their meal tracking with ongoing checks of microbe populations in subject microbiomes. Gut health (specifically, gut diversity), <a href=\\\"https://news.epfl.ch/news/ai-nutrition-study-finds-five-every-day-may-keep-t/\\\">they found</a>, depends on how consistently a person eats well, and not just on what a person’s nutrition intake is like. Habits are central to basic body function.</p>\"},{\"p\":\"<p>Privacy protection is crucial given the personal aspects of habits. That becomes more true as the stakes elevate for good habits and personal health. Athletes are going to experience higher stakes when habits go under a microscope based on the public nature of sports performance. Understanding habit formation needs to go hand in hand with understanding how to keep that information private.</p>\"}]}},{\"section\": {\"heading\": \"<h3 class=\\\"anchored\\\">Stacks vs. Open, Why Choose?</h3>\", \"description\": \"<p>Hudl recently described a research meeting between the company and Mexican university researchers <a href=\"https://www.hudl.com/blog/hudl-citec-performance-workshop-event\">on the company blog</a>. Hudl is among the first sports technology companies to deliver a software “stack.” Software stacks go back the 2000s when most every dynamic website ran on a LAMP stack (Linux, Apache, MySql, Perl/Php/Python). The essential pieces for a sports infrastructure stack are: 1. athletes’ data collection, 2. athletes’ data management, 3. athletes’ data analysis, and 4. athletes’ data reporting. The integration of the pieces, done as seamlessly as possible, make for a stack and make that stack a more useful product than any of the singular pieces by themselves. <a href=\"https://teamworks.com/blog/teamworks-acquires-telemetry-sports/\">Teamworks</a> is the other company that makes a sports stack for teams to buy.</p>\", \"paragraphs\":[{\"p\":\"<p>The risk to a team who buys a stack is lock-in, a combination of dependence on and reluctance to leave a technology platform. Lock-in, <a href=\\\"https://pluralistic.net/2024/01/24/everything-not-mandatory/\\\">according to</a> technology journalist and activist Cory Doctorow, is the first step to enshittification (platform decay) which occurs when companies with lots of dependent customers prioritize exerting control over customers, instead of delivering value to customers.</p>\"},{\"p\":\"<p>The LAMP stack was (still is) Open Source technology, which effectively steered it away from enshittification. Open Source (and the related Open Data) is a way to prioritize customer value over long term time windows. The Open Source software model demonstrated by LAMP also scaled well, supporting the explosive growth that the Internet experienced as it got its legs during the early 21st Century. Calls for Open methods and shared infrastructure and practices <a href=\\\"https://bjsm.bmj.com/content/58/6/293\\\">like this</a> by Garret Bullock and <a href=\\\"https://bjsm.bmj.com/content/59/18/1270\\\">this</a> by Natalie Kupperman promote the awareness and benefits of community stakeholding.</p>\"},{\"p\":\"<p>Research participation is different in closed and in open platforms. How? Social media data (Facebook, Twitter) used to be widely available and no-cost. Companies met the demand from researchers and developers with APIs. <a href=\\\"https://web.archive.org/web/20170908050806/https://www.sporttechie.com/sports-technology-problem-end-user-programming/\\\">Years ago I wrote</a> about how the APIs to customize sports software was not being demanded or created, and I am not sure how much progress has been made in the time since. End-user programming, as I wrote, is the bottom-up expression of demand for Open infrastructure and data. At present, Open research in sports exists, but not at scales large enough to be useful.</p>\"},{\"p\":\"<p>Top-down progress does not necessarily lead to enshittification. Bottom-up progress does not necessarily gain traction to reach broad-based utility. The need is for some optimizaton of both, top-down and bottom-up, to create a check and balance that guarantees customer value from their sports software.</p>\"}]}},{\"section\": {\"heading\": \"<h3 class=\\\"anchored\\\">Big Data Bowl 2026</h3>\", \"description\": \"<p>The NFL announced the criteria for its <a href=\"https://operations.nfl.com/gameday/analytics/big-data-bowl/\">2026 Big Data Bowl</a> (BDB), the annual competition where anyone can take real NFL game data and then answer important (to the NFL at least) research questions. Submissions are judged and cash prizes are given. The combination of real-world data and the accessibility of the Kaggle coding competitions platform makes BDB something far less intimidating than you might expect. There is an engaged community (that includes the NFL researchers who put forward the competition research questions and data set) and the nature of the competition is easy enough to understand and not so cutthroat. The NFL wants to gain deeper insight from the location-tracking data that wearable sensors measure for each player on the field, at a rate of 10 frames per second (in the Kaggle competition data set).</p>\", \"paragraphs\":[{\"p\":\"<p>The BDB competition has one data set and two tracks. The data set is player movement tracking data for NFL passing plays leading up to the moment that the forward pass is thrown. The task, and the goal of one competition track, is to predict the ongoing player movement as the football moves through the air. The second competition track is to formulate a metric (or, short of that, a video commentary) that describes some aspect of player movement that is accessible to football professionals (like coaches) and football fans (like most Americans).</p>\"},{\"p\":\"<p>The corpus of relevant research and analysis tools did not take long to assemble: 1. <a href=\\\"https://www.youtube.com/watch?v=2xg3nyPNo3s&amp;t=2221s\\\">2023 CMSAC workshop video</a> 2. <a href=\\\"https://www.annualreviews.org/content/journals/10.1146/annurev-statistics-033021-110117\\\">Kovalchik, Player Tracking Data in Sports</a> 3. <a href=\\\"https://github.com/sportsdataverse/sportyR\\\">sportyR</a> 4. <a href=\\\"https://github.com/nflverse/nflverse\\\">NFLverse</a> 5. <a href=\\\"https://nflfastr.com/articles/nflfastR.html\\\">NFLfastr</a> 6. <a href=\\\"https://nflfastr.com/articles/nflfastR.html\\\">Get started with nflfastR</a> 7. <a href=\\\"https://arxiv.org/abs/2507.06122\\\">A Bayesian circular mixed-effects model for explaining variability in directional movement in American football</a> 8. <a href=\\\"https://arxiv.org/abs/2406.17220\\\">NFL Ghosts: A framework for evaluating defender positioning with conditional density estimation</a> 9. <a href=\\\"https://statthinksportsanalytics.substack.com/p/thoughts-on-big-data-bowl-2025\\\">Ron Yurko’s Thoughts on Big Data Bowl 2025</a> 10. <a href=\\\"https://www.kaggle.com/code/lorihe/survival-analysis-on-progress-after-caught\\\">Survival Analysis on Progress after Caught</a> 11. <a href=\\\"https://www.kaggle.com/code/pvabish/modeling-with-transformers-by-sumersports/notebook\\\">Modeling with Transformers</a> 12. <a href=\\\"https://sumersports.com/the-zone/nfl-advanced-stats/\\\">NFL Advanced Stats: How To Use Them and What They Mean</a></p>\"},{\"p\":\"<p>The 2026 BDB competition is a step in the direction of integrating athlete biomechanics into game analysis. That’s what Luke Camarao and I have in mind for our submission. If it goes well and we have useful prediction and analytics algorithms for player movement during NFL pass plays then I might also have a starting point to generate synthetic data, something where I can apply and test different amounts of noise to the contest data and then see how the added noise affects player movement predictions.</p>\"}]}}]}\n"
     ]
    }
   ],
   "source": [
    "import re\n",
    "from bs4 import BeautifulSoup\n",
    "soup = BeautifulSoup(newsletter.description, 'html.parser')\n",
    "sections = soup.find_all('section')\n",
    "subject = '\"subject\": \"' + newsletter.title + '\"'\n",
    "introduction = '\"introduction\":' + '[' + \",\".join([ '{\"p\":\"' + re.sub(r'\"', r'\\\"', str(p))  + '\"}' for p in reversed(sections[0].find_previous_siblings('p'))]) + ']'\n",
    "#section = '\"sections\":' + '[' + \",\".join([ '{\"section\":\"' + re.sub(r'\"', r'\\\"', str(s)) + '\"}' for s in sections]) + ']'\n",
    "section = []\n",
    "for s in sections:\n",
    "    heading = '\"heading\": \"' + re.sub(r'\"', r'\\\"', str(s.find('h3'))) + '\"'\n",
    "    description = '\"description\": \"' + str(s.find('p')) + '\"'\n",
    "    description = re.sub(r'\"', r'\\\"', description)\n",
    "    paragraphs = '\"paragraphs\":' + '[' + \",\".join([ '{\"p\":\"' + re.sub(r'\"', r'\\\"', str(p))  + '\"}' for p in s.find('p').find_next_siblings('p')]) + ']'\n",
    "    sec = '{\"section\": {' + heading + ', ' + description + ', ' + paragraphs + '}}'\n",
    "    section.append(sec)\n",
    "h_sections = '\"sections\": [' + \",\".join(section) + ']'\n",
    "handlebar = '{' + subject + ', ' + introduction + ', ' + h_sections + '}'\n",
    "print(handlebar)\n"
   ]
  },
  {
   "cell_type": "code",
   "execution_count": 9,
   "id": "e75042f2",
   "metadata": {},
   "outputs": [
    {
     "ename": "SyntaxError",
     "evalue": "invalid syntax. Perhaps you forgot a comma? (<string>, line 1)",
     "output_type": "error",
     "traceback": [
      "Traceback \u001b[36m(most recent call last)\u001b[39m:\n",
      "  File \u001b[92m~/anaconda3/envs/quarto/lib/python3.12/site-packages/IPython/core/interactiveshell.py:3667\u001b[39m in \u001b[95mrun_code\u001b[39m\n    exec(code_obj, self.user_global_ns, self.user_ns)\n",
      "\u001b[36m  \u001b[39m\u001b[36mCell\u001b[39m\u001b[36m \u001b[39m\u001b[32mIn[9]\u001b[39m\u001b[32m, line 10\u001b[39m\n\u001b[31m    \u001b[39m\u001b[31mmessage.dynamic_template_data = eval(handlebar)\u001b[39m\n",
      "  \u001b[36mFile \u001b[39m\u001b[32m<string>:1\u001b[39m\n\u001b[31m    \u001b[39m\u001b[31m{\"subject\": \"ADCN: Journaling, Stacks vs. Open, Big Data Bowl\", \"introduction\":[], \"sections\": [{\"section\": {\"heading\": \"<h3 class=\\\"anchored\\\">Journaling with Wearables</h3>\", \"description\": \"<p>“Expert in yourself” is not yet a norm but among high achievers in business and sports it is headed that way. Type A personalities drive the connection between data and habits since the technology is not quite easy enough to use. Call this stuff more of a really-want-to than a need-to at this point but the utility (and probably usability too) increasing dramatically as the benefit to cost ratio increases in the near future. Read on for why the big benefits are coming, and for why personal privacy is a factor.</p>\", \"paragraphs\":[{\"p\":\"<p>Habits are personal behaviors. They defy universal generalization but there is <a href=\\\"https://knowledge.wharton.upenn.edu/podcast/this-week-in-business/what-machine-learning-reveals-about-forming-a-healthy-habit/\\\">an emerging consensus</a> that gaining some habits (like gym-going) are harder and gaining other habits (like hand-washing) are easier. Self-awareness about what’s healthy, productive, or both healthy and productive, might be the shortest path for someone trying to make a habit out of good habits. <a href=\\\"https://highschool.latimes.com/opinion/review-the-power-of-tiny-wins-what-atomic-habits-taught-me-about-change/\\\">Atomic Habits</a>, as put forward by author James Clear, is less a personal guide to habit-formation than it is a guide to self- and environmental-awareness so that you can give yourself the best chance to succeed at habit change.</p>\"},{\"p\":\"<p>High achievers often execute on a long development arc. It is not just talent, there is also an endurance factor where sustained improvement progresses year-over-year, sometimes decade-over-decade. No short cuts. Work life incorporates personal habits and self-expertise. Overall, self-knowledge takes guesswork out of finding effective collaborators and, when there is no collaboration, self-fulfillment plugs any gaps with still more self-development productivity.</p>\"},{\"p\":\"<p>A <a href=\\\"https://www.nytimes.com/athletic/6665943/2025/09/29/sports-training-cla-coaching-wembanyana-ohtani/\\\">constraints-led approach</a> (CLA) to training is learning methodology that attempts to expedite high-level skill development by imposing constraints. The thoughtful design of the constraints comes from a coach or trainer who knows CLA and perception-action coupling, a kind of meta-cognition where sensemaking in a realistic and constrained training scenario informs future behavior. It’s a higher-order habit meant to create situational preparedness in high-pressure, complex, future settings.</p>\"},{\"p\":\"<p>What if you just want to eat less bacon, or improve sleep hygiene? Garmin recently <a href=\\\"https://www.dcrainmaker.com/2025/09/lifestyle-logging-journaling-health-status-vs-whoop-everything.html\\\">added</a> a “Life Logging” feature to many of the company’s recent edition sport watches. The feature matches a popular aspect of Whoop biometric-tracking bracelets. The on-screen reminders delivered to your watch attach information to a wide range of daily (the typical time interval) wellness observables. The lightweight interaction is a straightforward way to connect behavior to performance when the goal is to change both of those things. <a href=\\\"https://www.nytimes.com/2025/09/27/business/oura-ring-tom-hale.html\\\">Reporting</a> by The New York Times suggests that high-performing business executives are doing something like this with Oura rings.</p>\"},{\"p\":\"<p>Research technologies are coming that will reduce the cognitive overhead for tracking and adopting habits. <a href=\\\"https://news.feinberg.northwestern.edu/2025/09/19/wearable-sensors-could-reshape-obesity-treatment/\\\">Northwestern researchers</a> combine 2 wearables (wrist + necklace), 1 body camera, and a phone app to thoroughly document research subjects’ eating habits. The system gets high-fidelity gesture data from the wearables, and the body camera also recognizes activity signatures that are unique to eating. The product of this research is an effective diagnostic, showing that overeating takes multiple forms and the patterns have emotional, behavioral and contextual dimensions. Work continues, and the hope is for clinicians to use these same tools for personalization and support to enable habit changes.</p>\"},{\"p\":\"<p><a href=\\\"https://www.myfoodrepo.ai/en/blog/introducing-hei-41bb6181-237a-4acf-b94f-64d0badf6fb8\\\">MyFoodRepo</a> is a picture-based meal-tracking app developed by Marcel Salathe and his team at EPFL in Switzerland. The researchers combined their meal tracking with ongoing checks of microbe populations in subject microbiomes. Gut health (specifically, gut diversity), <a href=\\\"https://news.epfl.ch/news/ai-nutrition-study-finds-five-every-day-may-keep-t/\\\">they found</a>, depends on how consistently a person eats well, and not just on what a person’s nutrition intake is like. Habits are central to basic body function.</p>\"},{\"p\":\"<p>Privacy protection is crucial given the personal aspects of habits. That becomes more true as the stakes elevate for good habits and personal health. Athletes are going to experience higher stakes when habits go under a microscope based on the public nature of sports performance. Understanding habit formation needs to go hand in hand with understanding how to keep that information private.</p>\"}]}},{\"section\": {\"heading\": \"<h3 class=\\\"anchored\\\">Stacks vs. Open, Why Choose?</h3>\", \"description\": \"<p>Hudl recently described a research meeting between the company and Mexican university researchers <a href=\"https://www.hudl.com/blog/hudl-citec-performance-workshop-event\">on the company blog</a>. Hudl is among the first sports technology companies to deliver a software “stack.” Software stacks go back the 2000s when most every dynamic website ran on a LAMP stack (Linux, Apache, MySql, Perl/Php/Python). The essential pieces for a sports infrastructure stack are: 1. athletes’ data collection, 2. athletes’ data management, 3. athletes’ data analysis, and 4. athletes’ data reporting. The integration of the pieces, done as seamlessly as possible, make for a stack and make that stack a more useful product than any of the singular pieces by themselves. <a href=\"https://teamworks.com/blog/teamworks-acquires-telemetry-sports/\">Teamworks</a> is the other company that makes a sports stack for teams to buy.</p>\", \"paragraphs\":[{\"p\":\"<p>The risk to a team who buys a stack is lock-in, a combination of dependence on and reluctance to leave a technology platform. Lock-in, <a href=\\\"https://pluralistic.net/2024/01/24/everything-not-mandatory/\\\">according to</a> technology journalist and activist Cory Doctorow, is the first step to enshittification (platform decay) which occurs when companies with lots of dependent customers prioritize exerting control over customers, instead of delivering value to customers.</p>\"},{\"p\":\"<p>The LAMP stack was (still is) Open Source technology, which effectively steered it away from enshittification. Open Source (and the related Open Data) is a way to prioritize customer value over long term time windows. The Open Source software model demonstrated by LAMP also scaled well, supporting the explosive growth that the Internet experienced as it got its legs during the early 21st Century. Calls for Open methods and shared infrastructure and practices <a href=\\\"https://bjsm.bmj.com/content/58/6/293\\\">like this</a> by Garret Bullock and <a href=\\\"https://bjsm.bmj.com/content/59/18/1270\\\">this</a> by Natalie Kupperman promote the awareness and benefits of community stakeholding.</p>\"},{\"p\":\"<p>Research participation is different in closed and in open platforms. How? Social media data (Facebook, Twitter) used to be widely available and no-cost. Companies met the demand from researchers and developers with APIs. <a href=\\\"https://web.archive.org/web/20170908050806/https://www.sporttechie.com/sports-technology-problem-end-user-programming/\\\">Years ago I wrote</a> about how the APIs to customize sports software was not being demanded or created, and I am not sure how much progress has been made in the time since. End-user programming, as I wrote, is the bottom-up expression of demand for Open infrastructure and data. At present, Open research in sports exists, but not at scales large enough to be useful.</p>\"},{\"p\":\"<p>Top-down progress does not necessarily lead to enshittification. Bottom-up progress does not necessarily gain traction to reach broad-based utility. The need is for some optimizaton of both, top-down and bottom-up, to create a check and balance that guarantees customer value from their sports software.</p>\"}]}},{\"section\": {\"heading\": \"<h3 class=\\\"anchored\\\">Big Data Bowl 2026</h3>\", \"description\": \"<p>The NFL announced the criteria for its <a href=\"https://operations.nfl.com/gameday/analytics/big-data-bowl/\">2026 Big Data Bowl</a> (BDB), the annual competition where anyone can take real NFL game data and then answer important (to the NFL at least) research questions. Submissions are judged and cash prizes are given. The combination of real-world data and the accessibility of the Kaggle coding competitions platform makes BDB something far less intimidating than you might expect. There is an engaged community (that includes the NFL researchers who put forward the competition research questions and data set) and the nature of the competition is easy enough to understand and not so cutthroat. The NFL wants to gain deeper insight from the location-tracking data that wearable sensors measure for each player on the field, at a rate of 10 frames per second (in the Kaggle competition data set).</p>\", \"paragraphs\":[{\"p\":\"<p>The BDB competition has one data set and two tracks. The data set is player movement tracking data for NFL passing plays leading up to the moment that the forward pass is thrown. The task, and the goal of one competition track, is to predict the ongoing player movement as the football moves through the air. The second competition track is to formulate a metric (or, short of that, a video commentary) that describes some aspect of player movement that is accessible to football professionals (like coaches) and football fans (like most Americans).</p>\"},{\"p\":\"<p>The corpus of relevant research and analysis tools did not take long to assemble: 1. <a href=\\\"https://www.youtube.com/watch?v=2xg3nyPNo3s&amp;t=2221s\\\">2023 CMSAC workshop video</a> 2. <a href=\\\"https://www.annualreviews.org/content/journals/10.1146/annurev-statistics-033021-110117\\\">Kovalchik, Player Tracking Data in Sports</a> 3. <a href=\\\"https://github.com/sportsdataverse/sportyR\\\">sportyR</a> 4. <a href=\\\"https://github.com/nflverse/nflverse\\\">NFLverse</a> 5. <a href=\\\"https://nflfastr.com/articles/nflfastR.html\\\">NFLfastr</a> 6. <a href=\\\"https://nflfastr.com/articles/nflfastR.html\\\">Get started with nflfastR</a> 7. <a href=\\\"https://arxiv.org/abs/2507.06122\\\">A Bayesian circular mixed-effects model for explaining variability in directional movement in American football</a> 8. <a href=\\\"https://arxiv.org/abs/2406.17220\\\">NFL Ghosts: A framework for evaluating defender positioning with conditional density estimation</a> 9. <a href=\\\"https://statthinksportsanalytics.substack.com/p/thoughts-on-big-data-bowl-2025\\\">Ron Yurko’s Thoughts on Big Data Bowl 2025</a> 10. <a href=\\\"https://www.kaggle.com/code/lorihe/survival-analysis-on-progress-after-caught\\\">Survival Analysis on Progress after Caught</a> 11. <a href=\\\"https://www.kaggle.com/code/pvabish/modeling-with-transformers-by-sumersports/notebook\\\">Modeling with Transformers</a> 12. <a href=\\\"https://sumersports.com/the-zone/nfl-advanced-stats/\\\">NFL Advanced Stats: How To Use Them and What They Mean</a></p>\"},{\"p\":\"<p>The 2026 BDB competition is a step in the direction of integrating athlete biomechanics into game analysis. That’s what Luke Camarao and I have in mind for our submission. If it goes well and we have useful prediction and analytics algorithms for player movement during NFL pass plays then I might also have a starting point to generate synthetic data, something where I can apply and test different amounts of noise to the contest data and then see how the added noise affects player movement predictions.</p>\"}]}}]}\u001b[39m\n                                                                                                                                                                                                                                                                                                                                                                                                                                                                                                                                                                                                                                                                                                                                                                                                                                                                                                                                                                                                                                                                                                                                                                                                                                                                                                                                                                                                                                                                                                                                                                                                                                                                                                                                                                                                                                                                                                                                                                                                                                                                                                                                                                                                                                                                                                                                                                                                                                                                                                                                                                                                                                                                                                                                                                                                                                                                                                                                                                                                                                                                                                                                                                                                                                                                                                                                                                                                                                                                                                                                                                                                                                                                                                                                                                                                                                                                                                                                                                                                                                                                                                                                                                                                                                                                                                                                                                                                                                                                                                                                                                                                                                                                                                                                                                                                                                                                                                                                                                                                                                                                                                                                                                                                                                                                                                                                                                                                                                                                                                                                                                                                                                                                                                                                                                                                                     ^\n\u001b[31mSyntaxError\u001b[39m\u001b[31m:\u001b[39m invalid syntax. Perhaps you forgot a comma?\n"
     ]
    }
   ],
   "source": [
    "import sendgrid\n",
    "import os\n",
    "from sendgrid.helpers.mail import *\n",
    "from dotenv import load_dotenv\n",
    "load_dotenv()\n",
    "emails = [\"jstenger@uvm.edu\"] #..fill as needed\n",
    "for email in emails:\n",
    "\tsg = sendgrid.SendGridAPIClient(os.environ.get('SENDGRID_API_KEY'))\n",
    "\tmessage = Mail(from_email=os.environ.get('SENDGRID_SENDER_EMAIL'), to_emails=email)\n",
    "\tmessage.dynamic_template_data = eval(handlebar)\n",
    "\tmessage.template_id = os.environ.get('SENDGRID_TEMPLATE_ID')\n",
    "\tresponse = sg.send(message)\n",
    "\tprint(response.status_code, email)"
   ]
  }
 ],
 "metadata": {
  "kernelspec": {
   "display_name": "quarto",
   "language": "python",
   "name": "python3"
  },
  "language_info": {
   "codemirror_mode": {
    "name": "ipython",
    "version": 3
   },
   "file_extension": ".py",
   "mimetype": "text/x-python",
   "name": "python",
   "nbconvert_exporter": "python",
   "pygments_lexer": "ipython3",
   "version": "3.12.9"
  }
 },
 "nbformat": 4,
 "nbformat_minor": 5
}
