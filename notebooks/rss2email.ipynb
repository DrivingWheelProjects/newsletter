{
 "cells": [
  {
   "cell_type": "code",
   "execution_count": null,
   "id": "c068bda2",
   "metadata": {},
   "outputs": [
    {
     "ename": "UnauthorizedError",
     "evalue": "HTTP Error 401: Unauthorized",
     "output_type": "error",
     "traceback": [
      "\u001b[31m---------------------------------------------------------------------------\u001b[39m",
      "\u001b[31mUnauthorizedError\u001b[39m                         Traceback (most recent call last)",
      "\u001b[36mCell\u001b[39m\u001b[36m \u001b[39m\u001b[32mIn[2]\u001b[39m\u001b[32m, line 7\u001b[39m\n\u001b[32m      4\u001b[39m \u001b[38;5;28;01mfrom\u001b[39;00m\u001b[38;5;250m \u001b[39m\u001b[34;01mdotenv\u001b[39;00m\u001b[38;5;250m \u001b[39m\u001b[38;5;28;01mimport\u001b[39;00m load_dotenv\n\u001b[32m      6\u001b[39m sg = sendgrid.SendGridAPIClient(os.environ.get(\u001b[33m'\u001b[39m\u001b[33mSENDGRID_API_KEY\u001b[39m\u001b[33m'\u001b[39m))\n\u001b[32m----> \u001b[39m\u001b[32m7\u001b[39m response = sg.client.contactdb.recipients.count.get()\n\u001b[32m      8\u001b[39m \u001b[38;5;28mprint\u001b[39m(response.status_code)\n\u001b[32m      9\u001b[39m \u001b[38;5;28mprint\u001b[39m(response.body)\n",
      "\u001b[36mFile \u001b[39m\u001b[32m~/anaconda3/envs/quarto/lib/python3.12/site-packages/python_http_client/client.py:277\u001b[39m, in \u001b[36mClient.__getattr__.<locals>.http_request\u001b[39m\u001b[34m(request_body, query_params, request_headers, timeout, **_)\u001b[39m\n\u001b[32m    271\u001b[39m     _logger.debug(\u001b[33m'\u001b[39m\u001b[33mPAYLOAD: \u001b[39m\u001b[38;5;132;01m{data}\u001b[39;00m\u001b[33m'\u001b[39m.format(\n\u001b[32m    272\u001b[39m         data=request.data))\n\u001b[32m    273\u001b[39m _logger.debug(\u001b[33m'\u001b[39m\u001b[33mHEADERS: \u001b[39m\u001b[38;5;132;01m{headers}\u001b[39;00m\u001b[33m'\u001b[39m.format(\n\u001b[32m    274\u001b[39m     headers=request.headers))\n\u001b[32m    276\u001b[39m response = Response(\n\u001b[32m--> \u001b[39m\u001b[32m277\u001b[39m     \u001b[38;5;28mself\u001b[39m._make_request(opener, request, timeout=timeout)\n\u001b[32m    278\u001b[39m )\n\u001b[32m    280\u001b[39m _logger.debug(\u001b[33m'\u001b[39m\u001b[38;5;132;01m{method}\u001b[39;00m\u001b[33m Response: \u001b[39m\u001b[38;5;132;01m{status}\u001b[39;00m\u001b[33m \u001b[39m\u001b[38;5;132;01m{body}\u001b[39;00m\u001b[33m'\u001b[39m.format(\n\u001b[32m    281\u001b[39m     method=method,\n\u001b[32m    282\u001b[39m     status=response.status_code,\n\u001b[32m    283\u001b[39m     body=response.body))\n\u001b[32m    285\u001b[39m \u001b[38;5;28;01mreturn\u001b[39;00m response\n",
      "\u001b[36mFile \u001b[39m\u001b[32m~/anaconda3/envs/quarto/lib/python3.12/site-packages/python_http_client/client.py:184\u001b[39m, in \u001b[36mClient._make_request\u001b[39m\u001b[34m(self, opener, request, timeout)\u001b[39m\n\u001b[32m    179\u001b[39m exc.__cause__ = \u001b[38;5;28;01mNone\u001b[39;00m\n\u001b[32m    180\u001b[39m _logger.debug(\u001b[33m'\u001b[39m\u001b[38;5;132;01m{method}\u001b[39;00m\u001b[33m Response: \u001b[39m\u001b[38;5;132;01m{status}\u001b[39;00m\u001b[33m \u001b[39m\u001b[38;5;132;01m{body}\u001b[39;00m\u001b[33m'\u001b[39m.format(\n\u001b[32m    181\u001b[39m     method=request.get_method(),\n\u001b[32m    182\u001b[39m     status=exc.status_code,\n\u001b[32m    183\u001b[39m     body=exc.body))\n\u001b[32m--> \u001b[39m\u001b[32m184\u001b[39m \u001b[38;5;28;01mraise\u001b[39;00m exc\n",
      "\u001b[31mUnauthorizedError\u001b[39m: HTTP Error 401: Unauthorized"
     ]
    }
   ],
   "source": [
    "# test SendGrid mailing list operations\n",
    "import sendgrid\n",
    "import os\n",
    "from dotenv import load_dotenv\n",
    "load_dotenv()\n",
    "sg = sendgrid.SendGridAPIClient(os.environ.get('SENDGRID_API_KEY'))\n",
    "response = sg.client.contactdb.recipients.count.get()\n",
    "print(response.status_code)\n",
    "print(response.body)\n",
    "print(response.headers)"
   ]
  },
  {
   "cell_type": "markdown",
   "id": "d49c70c4",
   "metadata": {},
   "source": [
    "parse index.xml to get latest feed item"
   ]
  },
  {
   "cell_type": "code",
   "execution_count": 10,
   "id": "85797e3d",
   "metadata": {},
   "outputs": [
    {
     "name": "stdout",
     "output_type": "stream",
     "text": [
      "newsletter: Post With Code\n",
      "<p>This is a post with executable code.</p>\n"
     ]
    }
   ],
   "source": [
    "import feedparser\n",
    "\n",
    "feed = feedparser.parse('../docs/index.xml')\n",
    "newsletter = feed.entries[0]\n",
    "print(feed.feed.title + \": \" + newsletter.title)\n",
    "print(newsletter.description)"
   ]
  },
  {
   "cell_type": "code",
   "execution_count": null,
   "id": "91829116",
   "metadata": {},
   "outputs": [
    {
     "ename": "UnauthorizedError",
     "evalue": "HTTP Error 401: Unauthorized",
     "output_type": "error",
     "traceback": [
      "\u001b[31m---------------------------------------------------------------------------\u001b[39m",
      "\u001b[31mUnauthorizedError\u001b[39m                         Traceback (most recent call last)",
      "\u001b[36mCell\u001b[39m\u001b[36m \u001b[39m\u001b[32mIn[11]\u001b[39m\u001b[32m, line 12\u001b[39m\n\u001b[32m     10\u001b[39m content = Content(MimeType.html, newsletter.description)\n\u001b[32m     11\u001b[39m mail = Mail(from_email, to_email, subject, content)\n\u001b[32m---> \u001b[39m\u001b[32m12\u001b[39m response = sg.client.mail.send.post(request_body=mail.get())\n\u001b[32m     13\u001b[39m \u001b[38;5;28mprint\u001b[39m(response.status_code)\n\u001b[32m     14\u001b[39m \u001b[38;5;28mprint\u001b[39m(response.body)\n",
      "\u001b[36mFile \u001b[39m\u001b[32m~/anaconda3/envs/quarto/lib/python3.12/site-packages/python_http_client/client.py:277\u001b[39m, in \u001b[36mClient.__getattr__.<locals>.http_request\u001b[39m\u001b[34m(request_body, query_params, request_headers, timeout, **_)\u001b[39m\n\u001b[32m    271\u001b[39m     _logger.debug(\u001b[33m'\u001b[39m\u001b[33mPAYLOAD: \u001b[39m\u001b[38;5;132;01m{data}\u001b[39;00m\u001b[33m'\u001b[39m.format(\n\u001b[32m    272\u001b[39m         data=request.data))\n\u001b[32m    273\u001b[39m _logger.debug(\u001b[33m'\u001b[39m\u001b[33mHEADERS: \u001b[39m\u001b[38;5;132;01m{headers}\u001b[39;00m\u001b[33m'\u001b[39m.format(\n\u001b[32m    274\u001b[39m     headers=request.headers))\n\u001b[32m    276\u001b[39m response = Response(\n\u001b[32m--> \u001b[39m\u001b[32m277\u001b[39m     \u001b[38;5;28mself\u001b[39m._make_request(opener, request, timeout=timeout)\n\u001b[32m    278\u001b[39m )\n\u001b[32m    280\u001b[39m _logger.debug(\u001b[33m'\u001b[39m\u001b[38;5;132;01m{method}\u001b[39;00m\u001b[33m Response: \u001b[39m\u001b[38;5;132;01m{status}\u001b[39;00m\u001b[33m \u001b[39m\u001b[38;5;132;01m{body}\u001b[39;00m\u001b[33m'\u001b[39m.format(\n\u001b[32m    281\u001b[39m     method=method,\n\u001b[32m    282\u001b[39m     status=response.status_code,\n\u001b[32m    283\u001b[39m     body=response.body))\n\u001b[32m    285\u001b[39m \u001b[38;5;28;01mreturn\u001b[39;00m response\n",
      "\u001b[36mFile \u001b[39m\u001b[32m~/anaconda3/envs/quarto/lib/python3.12/site-packages/python_http_client/client.py:184\u001b[39m, in \u001b[36mClient._make_request\u001b[39m\u001b[34m(self, opener, request, timeout)\u001b[39m\n\u001b[32m    179\u001b[39m exc.__cause__ = \u001b[38;5;28;01mNone\u001b[39;00m\n\u001b[32m    180\u001b[39m _logger.debug(\u001b[33m'\u001b[39m\u001b[38;5;132;01m{method}\u001b[39;00m\u001b[33m Response: \u001b[39m\u001b[38;5;132;01m{status}\u001b[39;00m\u001b[33m \u001b[39m\u001b[38;5;132;01m{body}\u001b[39;00m\u001b[33m'\u001b[39m.format(\n\u001b[32m    181\u001b[39m     method=request.get_method(),\n\u001b[32m    182\u001b[39m     status=exc.status_code,\n\u001b[32m    183\u001b[39m     body=exc.body))\n\u001b[32m--> \u001b[39m\u001b[32m184\u001b[39m \u001b[38;5;28;01mraise\u001b[39;00m exc\n",
      "\u001b[31mUnauthorizedError\u001b[39m: HTTP Error 401: Unauthorized"
     ]
    }
   ],
   "source": [
    "import sendgrid\n",
    "import os\n",
    "from sendgrid.helpers.mail import *\n",
    "from dotenv import load_dotenv\n",
    "load_dotenv()\n",
    "sg = sendgrid.SendGridAPIClient(api_key=os.environ.get('SENDGRID_API_KEY'))\n",
    "from_email = Email(\"brad.stenger@gmail.com\")\n",
    "to_email = To(\"jstenger@uvm.edu\")\n",
    "subject = feed.feed.title + \": \" + newsletter.title\n",
    "content = Content(MimeType.html, newsletter.description)\n",
    "mail = Mail(from_email, to_email, subject, content)\n",
    "response = sg.client.mail.send.post(request_body=mail.get())\n",
    "print(response.status_code)\n",
    "print(response.body)\n",
    "print(response.headers)"
   ]
  }
 ],
 "metadata": {
  "kernelspec": {
   "display_name": "quarto",
   "language": "python",
   "name": "python3"
  },
  "language_info": {
   "codemirror_mode": {
    "name": "ipython",
    "version": 3
   },
   "file_extension": ".py",
   "mimetype": "text/x-python",
   "name": "python",
   "nbconvert_exporter": "python",
   "pygments_lexer": "ipython3",
   "version": "3.12.9"
  }
 },
 "nbformat": 4,
 "nbformat_minor": 5
}
