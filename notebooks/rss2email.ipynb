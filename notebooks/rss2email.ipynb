{
 "cells": [
  {
   "cell_type": "code",
   "execution_count": 2,
   "id": "c068bda2",
   "metadata": {},
   "outputs": [
    {
     "name": "stdout",
     "output_type": "stream",
     "text": [
      "200\n",
      "b'{\"recipient_count\":1}\\n'\n"
     ]
    }
   ],
   "source": [
    "# test SendGrid mailing list operations\n",
    "import sendgrid\n",
    "import os\n",
    "from dotenv import load_dotenv\n",
    "load_dotenv()\n",
    "sg = sendgrid.SendGridAPIClient(os.environ.get('SENDGRID_API_KEY'))\n",
    "params = {'page':1, 'page_size':1}\n",
    "response = sg.client.contactdb.recipients.count.get()\n",
    "print(response.status_code)\n",
    "print(response.body)\n",
    "#print(response.headers)"
   ]
  },
  {
   "cell_type": "code",
   "execution_count": 25,
   "id": "3356be4f",
   "metadata": {},
   "outputs": [
    {
     "name": "stdout",
     "output_type": "stream",
     "text": [
      "201\n",
      "b'{\"new_count\":1,\"updated_count\":0,\"error_count\":0,\"error_indices\":[],\"unmodified_indices\":[],\"persisted_recipients\":[\"anN0ZW5nZXJAdXZtLmVkdQ==\"],\"errors\":[]}\\n'\n"
     ]
    }
   ],
   "source": [
    "# Sendgrid add recipients\n",
    "data = [\n",
    "    {\"email\": \"jstenger@uvm.edu\"}\n",
    "]\n",
    "response = sg.client.contactdb.recipients.post(request_body=data)\n",
    "print(response.status_code)\n",
    "print(response.body)"
   ]
  },
  {
   "cell_type": "code",
   "execution_count": 45,
   "id": "f3c265d2",
   "metadata": {},
   "outputs": [
    {
     "name": "stdout",
     "output_type": "stream",
     "text": [
      "200\n"
     ]
    },
    {
     "data": {
      "text/plain": [
       "['jstenger@uvm.edu']"
      ]
     },
     "execution_count": 45,
     "metadata": {},
     "output_type": "execute_result"
    }
   ],
   "source": [
    "# Sendgrid retrieve recipients\n",
    "import json\n",
    "params = {'page':1, 'page_size':1}\n",
    "response = sg.client.contactdb.recipients.get(query_params=params)\n",
    "print(response.status_code)\n",
    "contacts = json.loads(response.body)\n",
    "emails = [recipient['email'] for recipient in contacts['recipients']]\n",
    "emails"
   ]
  },
  {
   "cell_type": "code",
   "execution_count": 7,
   "id": "470d9c58",
   "metadata": {},
   "outputs": [
    {
     "name": "stdout",
     "output_type": "stream",
     "text": [
      "200\n",
      "b'{\"user_id\":1757996,\"username\":\"bstenger\"}'\n"
     ]
    }
   ],
   "source": [
    "response = sg.client.user.username.get()\n",
    "print(response.status_code)\n",
    "print(response.body)"
   ]
  },
  {
   "cell_type": "markdown",
   "id": "d49c70c4",
   "metadata": {},
   "source": [
    "parse index.xml to get latest feed item"
   ]
  },
  {
   "cell_type": "code",
   "execution_count": 9,
   "id": "85797e3d",
   "metadata": {},
   "outputs": [
    {
     "name": "stdout",
     "output_type": "stream",
     "text": [
      "newsletter: ADCN: A sports science and technology newsletter by Brad Stenger\n",
      "<p>Welcome to my resurrected sports science and technology newsletter. I've given it a title, the \"Athletes Data Community Newsletter,\" something that reflects my research interests.</p>\n",
      "<p>I'm going into my last year of a Computer Science PhD at the University of Vermont and my primary research projects focus on privacy aspects of athletes’ health and performance data. Other papers in preparation: task analysis for athletes' data technologies based on field-based research, athletes' injury risk from an engineering systems perspective, socio-technical impediments and solutions for data sharing in sports. By putting athletes' data front and center I think that it will be possible to discuss the varied aspects of how data gets collected, managed and applied across the full spectrum of sports. At least I hope so.</p>\n",
      "<section class=\"level3\" id=\"concussions-in-2025\">\n",
      "<h3 class=\"anchored\">Concussions in 2025</h3>\n",
      "<p><em>flashing smart mouthguards and the growing importance of injury risk awareness</em></p>\n",
      "<p>Football season is concussion season, according to <a href=\"https://www.cnn.com/us/nfl-concussions-fast-facts\" target=\"_blank\">CNN</a>. Fortunately research in traumatic brain injury continues to advance. A U.S. research team led by a Milwaukee team from St.&nbsp;Luke's Medical Center and Medical College of Wisconsin <a href=\"https://journals.lww.com/acsm-msse/abstract/9900/change_in_head_impact_exposure_following.885.aspx\" target=\"_blank\">observed</a> that 75% of football players experienced fewer head impact exposure after return to play. Longer post-concussion recovery led to larger decreases in head impact exposures. Conservative return-to-play management from concussion likely increases athletes' awareness of head impacts and improves their ability to protect themselves.</p>\n",
      "<p>Awareness is central to a smart impact-sensing mouthguard with a bright red light that flashes above threshold acceleration values (75g for men, 65g for women, or 4500 radians per second squared). Years ago, research biomedical engineer <a href=\"https://scholar.google.com/citations?user=Wxcf9u8AAAAJ&amp;hl=en\" target=\"_blank\">Eric Nauman</a> (then at Purdue, now at University of Cincinnati) told me that football helmets should have plastic shells that would crack at similar thresholds, and prompt the same response: Get that athlete off the field. The evidence is the urgency, and without both, the decision-making circumstance changes.</p>\n",
      "<p>An athlete, a coach or a referee can all choose to play on without a clear and obivious signal that it is irresponsible to continue. \"Where athletes really get themselves into trouble – they continue to play. They get another, even minor, hit, and the symptoms get even more amplified,\" <a href=\"https://newsroom.clevelandclinic.org/2025/08/13/protecting-athletes-brains-from-concussion\" target=\"_blank\">says</a> Marie Schaefer of Cleveland Clinic. Technology that improves injury risk awareness and accounting is potentially disruptive, but only if norms in sport prioritize risk awareness. The alternative is to attribute sports injury to bad luck and believe that athletes inevitably get hurt.</p>\n",
      "</section>\n",
      "<section class=\"level3\" id=\"synthetic-data-in-sports\">\n",
      "<h3 class=\"anchored\">Synthetic Data in Sports</h3>\n",
      "<p><em>synthetic data is important technology for sports at the junction of data science, data sharing and privacy</em></p>\n",
      "<p>Privacy and data sharing in sports, this is my research in the PhD program at the University of Vermont. Questions about privacy for athletes' health and performance data have largely been unasked, and unanswered. So I am trying to ask them. Expect to see lots more about these subjects in the weeks ahead.</p>\n",
      "<p>Synthetic data, it turns out, is a crucial aspect of my research. Synthetic data, data that is produced algorithmically as opposed to being observed or collected, is capable of guaranteeing both privacy and quality and lends itself to widespread sharing. Examples of sports-related synthetic data are just proof of concept at this point. A <a href=\"https://www.frontiersin.org/journals/sports-and-active-living/articles/10.3389/fspor.2025.1646146/full\" target=\"_blank\">study</a> out of Ireland uses synthetic data to predict gait stability in an older population. The context is more sports-adjacent than actual sports but the work is a stepping stone to more complex biomechanical movements and more diverse athletic populations. Earlier this summer John Warmenhoven <a href=\"https://link.springer.com/article/10.1007/s40279-025-02221-6\" target=\"_blank\">derived</a> a synthetic dataset that showed only numerical acute training load, numerical chronic training load (4-week) and a binary injury data point, all expressed on a per week basis. The paper is a simple how-to and little more, \"an important first step toward better understanding of the utility of synthetic data for the sports and exercise sciences more broadly,\" the authors write.</p>\n",
      "</section>\n",
      "<section class=\"level3\" id=\"hidden-danger-of-gambling\">\n",
      "<h3 class=\"anchored\">Hidden Danger of Gambling</h3>\n",
      "<p><em>athletes' performance data is essential information for sports gamblers who seek to create a betting edge based on predictions of players' health, performance and injury</em></p>\n",
      "<p>A lawsuit is working its way through UK courts. A group of Premier League players <a href=\"https://uk.finance.yahoo.com/news/premier-league-players-challenge-data-213440100.html\" target=\"_blank\">has sued</a> via \"stop processing\" requests in order to rein in the access that commercial operators have to player performance data. Commercial operators consist of broadcasters, game developers and gambling companies, and they have negotiated data access rights with sports leagues under collective bargaining positions that those leagues have established with its players. Information fuels the analysis of high stakes sports gambling, and no one has higher stakes that the firms that take sports bets. Profiting from sports gambling depends on maintaining an edge that can tilt odds in ways that other bettors cannot expect. The amount of player performance data that is needed to create an edge is substantial, making it somewhat unrealistic at present. The payoff that will come from developing the edge is substantial however.</p>\n",
      "<p>Henry Abbott <a href=\"https://www.truehoop.com/p/incandescent-fitness\" target=\"_blank\">makes the point</a> in a researched essay that team-wide health and stamina are deciding NBA games, displacing some of the importance that star-level talent has in teams' game models. Longer-term, performance data has a significant role to play in the personalized care and training that elite athletes increasingly require, according to the Danish authors of <em>Consensus Statement-Optimizing Performance of the Elite Athlete</em>, <a href=\"https://onlinelibrary.wiley.com/doi/10.1111/sms.70112?af=R\" target=\"_blank\">recently published</a> in the <em>Scandanavian Journal of Medicine &amp; Science in Sports</em>. The authors write, &gt; Technological innovations are likely to enable the development of &gt; personalized training and nutrition strategies in the next decades &gt; through emerging technologies. Examples include utilizing wearable &gt; sensors and real-time monitoring to enable precise measurement of &gt; individual responses in the field and utilizing multi-omics &gt; approaches. Combined, these innovations may allow for better tailoring &gt; of training and nutrition strategies across the varying demands of &gt; training and competition.</p>\n",
      "<p>As the personalization advances, analysis of athletes' data should also provide clearer pictures for injury prevention and injury prediction. Nothing about the future of sports scares me more than sports gamblers inventing and then using an edge based on athlete injury prediction.</p>\n",
      "\n",
      "\n",
      "</section>\n"
     ]
    }
   ],
   "source": [
    "import feedparser\n",
    "\n",
    "feed = feedparser.parse('../docs/index.xml')\n",
    "newsletter = feed.entries[0]\n",
    "print(feed.feed.title + \": \" + newsletter.title)\n",
    "print(newsletter.description)"
   ]
  },
  {
   "cell_type": "code",
   "execution_count": 58,
   "id": "6c7c7e1d",
   "metadata": {},
   "outputs": [
    {
     "name": "stdout",
     "output_type": "stream",
     "text": [
      "{\"subject\": \"ADCN: A sports science and technology newsletter by Brad Stenger\", \"introduction\":[{\"p\":\"<p>Welcome to my resurrected sports science and technology newsletter. I've given it a title, the \\\"Athletes Data Community Newsletter,\\\" something that reflects my research interests.</p>\"},{\"p\":\"<p>I'm going into my last year of a Computer Science PhD at the University of Vermont and my primary research projects focus on privacy aspects of athletes’ health and performance data. Other papers in preparation: task analysis for athletes' data technologies based on field-based research, athletes' injury risk from an engineering systems perspective, socio-technical impediments and solutions for data sharing in sports. By putting athletes' data front and center I think that it will be possible to discuss the varied aspects of how data gets collected, managed and applied across the full spectrum of sports. At least I hope so.</p>\"}], \"sections\": [{\"section\": {\"heading\": \"<h3 class=\\\"anchored\\\">Concussions in 2025</h3>\", \"description\": \"<p><em>flashing smart mouthguards and the growing importance of injury risk awareness</em></p>\", \"paragraphs\":[{\"p\":\"<p>Football season is concussion season, according to <a href=\\\"https://www.cnn.com/us/nfl-concussions-fast-facts\\\" target=\\\"_blank\\\">CNN</a>. Fortunately research in traumatic brain injury continues to advance. A U.S. research team led by a Milwaukee team from St. Luke's Medical Center and Medical College of Wisconsin <a href=\\\"https://journals.lww.com/acsm-msse/abstract/9900/change_in_head_impact_exposure_following.885.aspx\\\" target=\\\"_blank\\\">observed</a> that 75% of football players experienced fewer head impact exposure after return to play. Longer post-concussion recovery led to larger decreases in head impact exposures. Conservative return-to-play management from concussion likely increases athletes' awareness of head impacts and improves their ability to protect themselves.</p>\"},{\"p\":\"<p>Awareness is central to a smart impact-sensing mouthguard with a bright red light that flashes above threshold acceleration values (75g for men, 65g for women, or 4500 radians per second squared). Years ago, research biomedical engineer <a href=\\\"https://scholar.google.com/citations?user=Wxcf9u8AAAAJ&amp;hl=en\\\" target=\\\"_blank\\\">Eric Nauman</a> (then at Purdue, now at University of Cincinnati) told me that football helmets should have plastic shells that would crack at similar thresholds, and prompt the same response: Get that athlete off the field. The evidence is the urgency, and without both, the decision-making circumstance changes.</p>\"},{\"p\":\"<p>An athlete, a coach or a referee can all choose to play on without a clear and obivious signal that it is irresponsible to continue. \\\"Where athletes really get themselves into trouble – they continue to play. They get another, even minor, hit, and the symptoms get even more amplified,\\\" <a href=\\\"https://newsroom.clevelandclinic.org/2025/08/13/protecting-athletes-brains-from-concussion\\\" target=\\\"_blank\\\">says</a> Marie Schaefer of Cleveland Clinic. Technology that improves injury risk awareness and accounting is potentially disruptive, but only if norms in sport prioritize risk awareness. The alternative is to attribute sports injury to bad luck and believe that athletes inevitably get hurt.</p>\"}]}},{\"section\": {\"heading\": \"<h3 class=\\\"anchored\\\">Synthetic Data in Sports</h3>\", \"description\": \"<p><em>synthetic data is important technology for sports at the junction of data science, data sharing and privacy</em></p>\", \"paragraphs\":[{\"p\":\"<p>Privacy and data sharing in sports, this is my research in the PhD program at the University of Vermont. Questions about privacy for athletes' health and performance data have largely been unasked, and unanswered. So I am trying to ask them. Expect to see lots more about these subjects in the weeks ahead.</p>\"},{\"p\":\"<p>Synthetic data, it turns out, is a crucial aspect of my research. Synthetic data, data that is produced algorithmically as opposed to being observed or collected, is capable of guaranteeing both privacy and quality and lends itself to widespread sharing. Examples of sports-related synthetic data are just proof of concept at this point. A <a href=\\\"https://www.frontiersin.org/journals/sports-and-active-living/articles/10.3389/fspor.2025.1646146/full\\\" target=\\\"_blank\\\">study</a> out of Ireland uses synthetic data to predict gait stability in an older population. The context is more sports-adjacent than actual sports but the work is a stepping stone to more complex biomechanical movements and more diverse athletic populations. Earlier this summer John Warmenhoven <a href=\\\"https://link.springer.com/article/10.1007/s40279-025-02221-6\\\" target=\\\"_blank\\\">derived</a> a synthetic dataset that showed only numerical acute training load, numerical chronic training load (4-week) and a binary injury data point, all expressed on a per week basis. The paper is a simple how-to and little more, \\\"an important first step toward better understanding of the utility of synthetic data for the sports and exercise sciences more broadly,\\\" the authors write.</p>\"}]}},{\"section\": {\"heading\": \"<h3 class=\\\"anchored\\\">Hidden Danger of Gambling</h3>\", \"description\": \"<p><em>athletes' performance data is essential information for sports gamblers who seek to create a betting edge based on predictions of players' health, performance and injury</em></p>\", \"paragraphs\":[{\"p\":\"<p>A lawsuit is working its way through UK courts. A group of Premier League players <a href=\\\"https://uk.finance.yahoo.com/news/premier-league-players-challenge-data-213440100.html\\\" target=\\\"_blank\\\">has sued</a> via \\\"stop processing\\\" requests in order to rein in the access that commercial operators have to player performance data. Commercial operators consist of broadcasters, game developers and gambling companies, and they have negotiated data access rights with sports leagues under collective bargaining positions that those leagues have established with its players. Information fuels the analysis of high stakes sports gambling, and no one has higher stakes that the firms that take sports bets. Profiting from sports gambling depends on maintaining an edge that can tilt odds in ways that other bettors cannot expect. The amount of player performance data that is needed to create an edge is substantial, making it somewhat unrealistic at present. The payoff that will come from developing the edge is substantial however.</p>\"},{\"p\":\"<p>Henry Abbott <a href=\\\"https://www.truehoop.com/p/incandescent-fitness\\\" target=\\\"_blank\\\">makes the point</a> in a researched essay that team-wide health and stamina are deciding NBA games, displacing some of the importance that star-level talent has in teams' game models. Longer-term, performance data has a significant role to play in the personalized care and training that elite athletes increasingly require, according to the Danish authors of <em>Consensus Statement-Optimizing Performance of the Elite Athlete</em>, <a href=\\\"https://onlinelibrary.wiley.com/doi/10.1111/sms.70112?af=R\\\" target=\\\"_blank\\\">recently published</a> in the <em>Scandanavian Journal of Medicine &amp; Science in Sports</em>. The authors write, &gt; Technological innovations are likely to enable the development of &gt; personalized training and nutrition strategies in the next decades &gt; through emerging technologies. Examples include utilizing wearable &gt; sensors and real-time monitoring to enable precise measurement of &gt; individual responses in the field and utilizing multi-omics &gt; approaches. Combined, these innovations may allow for better tailoring &gt; of training and nutrition strategies across the varying demands of &gt; training and competition.</p>\"},{\"p\":\"<p>As the personalization advances, analysis of athletes' data should also provide clearer pictures for injury prevention and injury prediction. Nothing about the future of sports scares me more than sports gamblers inventing and then using an edge based on athlete injury prediction.</p>\"}]}}]}\n"
     ]
    }
   ],
   "source": [
    "import re\n",
    "from bs4 import BeautifulSoup\n",
    "soup = BeautifulSoup(newsletter.description, 'html.parser')\n",
    "sections = soup.find_all('section')\n",
    "subject = '\"subject\": \"' + newsletter.title + '\"'\n",
    "introduction = '\"introduction\":' + '[' + \",\".join([ '{\"p\":\"' + re.sub(r'\"', r'\\\"', str(p))  + '\"}' for p in reversed(sections[0].find_previous_siblings('p'))]) + ']'\n",
    "#section = '\"sections\":' + '[' + \",\".join([ '{\"section\":\"' + re.sub(r'\"', r'\\\"', str(s)) + '\"}' for s in sections]) + ']'\n",
    "section = []\n",
    "for s in sections:\n",
    "    heading = '\"heading\": \"' + re.sub(r'\"', r'\\\"', str(s.find('h3'))) + '\"'\n",
    "    description = '\"description\": \"' + str(s.find('p')) + '\"'\n",
    "    paragraphs = '\"paragraphs\":' + '[' + \",\".join([ '{\"p\":\"' + re.sub(r'\"', r'\\\"', str(p))  + '\"}' for p in s.find('p').find_next_siblings('p')]) + ']'\n",
    "    sec = '{\"section\": {' + heading + ', ' + description + ', ' + paragraphs + '}}'\n",
    "    section.append(sec)\n",
    "h_sections = '\"sections\": [' + \",\".join(section) + ']'\n",
    "handlebar = '{' + subject + ', ' + introduction + ', ' + h_sections + '}'\n",
    "print(handlebar)\n"
   ]
  },
  {
   "cell_type": "code",
   "execution_count": null,
   "id": "91829116",
   "metadata": {},
   "outputs": [
    {
     "name": "stdout",
     "output_type": "stream",
     "text": [
      "202\n",
      "b''\n",
      "Server: nginx\n",
      "Date: Thu, 24 Jul 2025 19:52:43 GMT\n",
      "Content-Length: 0\n",
      "Connection: close\n",
      "X-Message-Id: RXScMViKTOWfq0fFvi1hgA\n",
      "Access-Control-Allow-Origin: https://sendgrid.api-docs.io\n",
      "Access-Control-Allow-Methods: POST\n",
      "Access-Control-Allow-Headers: Authorization, Content-Type, On-behalf-of, x-sg-elas-acl\n",
      "Access-Control-Max-Age: 600\n",
      "X-No-CORS-Reason: https://sendgrid.com/docs/Classroom/Basics/API/cors.html\n",
      "Strict-Transport-Security: max-age=31536000; includeSubDomains\n",
      "Content-Security-Policy: frame-ancestors 'none'\n",
      "Cache-Control: no-cache\n",
      "X-Content-Type-Options: no-sniff\n",
      "Referrer-Policy: strict-origin-when-cross-origin\n",
      "\n",
      "\n"
     ]
    }
   ],
   "source": [
    "import sendgrid\n",
    "import os\n",
    "from sendgrid.helpers.mail import *\n",
    "from dotenv import load_dotenv\n",
    "load_dotenv()\n",
    "sg = sendgrid.SendGridAPIClient(api_key=os.environ.get('SENDGRID_API_KEY'))\n",
    "from_email = Email(\"brad.stenger@gmail.com\")\n",
    "to_email = To(\"jstenger@uvm.edu\")\n",
    "subject = feed.feed.title + \": \" + newsletter.title\n",
    "content = Content(MimeType.html, newsletter.description)\n",
    "mail = Mail(from_email, to_email, subject, content)\n",
    "# template \n",
    "response = sg.client.mail.send.post(request_body=mail.get())\n",
    "print(response.status_code)\n",
    "print(response.body)\n",
    "print(response.headers)"
   ]
  },
  {
   "cell_type": "code",
   "execution_count": null,
   "id": "f0211fe1",
   "metadata": {},
   "outputs": [],
   "source": [
    "# Template ID: d-6afa3f23868e47d1821cae1fa52951a7 \n"
   ]
  }
 ],
 "metadata": {
  "kernelspec": {
   "display_name": "quarto",
   "language": "python",
   "name": "python3"
  },
  "language_info": {
   "codemirror_mode": {
    "name": "ipython",
    "version": 3
   },
   "file_extension": ".py",
   "mimetype": "text/x-python",
   "name": "python",
   "nbconvert_exporter": "python",
   "pygments_lexer": "ipython3",
   "version": "3.12.9"
  }
 },
 "nbformat": 4,
 "nbformat_minor": 5
}
