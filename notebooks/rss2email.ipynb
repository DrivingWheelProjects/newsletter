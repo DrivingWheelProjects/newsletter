{
 "cells": [
  {
   "cell_type": "code",
   "execution_count": 23,
   "id": "c068bda2",
   "metadata": {},
   "outputs": [
    {
     "name": "stdout",
     "output_type": "stream",
     "text": [
      "200\n",
      "b'{\"recipient_count\":0}\\n'\n"
     ]
    }
   ],
   "source": [
    "# test SendGrid mailing list operations\n",
    "import sendgrid\n",
    "import os\n",
    "from dotenv import load_dotenv\n",
    "load_dotenv()\n",
    "sg = sendgrid.SendGridAPIClient(os.environ.get('SENDGRID_API_KEY'))\n",
    "params = {'page':1, 'page_size':1}\n",
    "response = sg.client.contactdb.recipients.count.get()\n",
    "print(response.status_code)\n",
    "print(response.body)\n",
    "#print(response.headers)"
   ]
  },
  {
   "cell_type": "code",
   "execution_count": 25,
   "id": "3356be4f",
   "metadata": {},
   "outputs": [
    {
     "name": "stdout",
     "output_type": "stream",
     "text": [
      "201\n",
      "b'{\"new_count\":1,\"updated_count\":0,\"error_count\":0,\"error_indices\":[],\"unmodified_indices\":[],\"persisted_recipients\":[\"anN0ZW5nZXJAdXZtLmVkdQ==\"],\"errors\":[]}\\n'\n"
     ]
    }
   ],
   "source": [
    "# Sendgrid add recipients\n",
    "data = [\n",
    "    {\"email\": \"jstenger@uvm.edu\"}\n",
    "]\n",
    "response = sg.client.contactdb.recipients.post(request_body=data)\n",
    "print(response.status_code)\n",
    "print(response.body)"
   ]
  },
  {
   "cell_type": "code",
   "execution_count": 26,
   "id": "f3c265d2",
   "metadata": {},
   "outputs": [
    {
     "name": "stdout",
     "output_type": "stream",
     "text": [
      "200\n",
      "b'{\"recipient_count\":1,\"recipients\":[{\"id\":\"anN0ZW5nZXJAdXZtLmVkdQ==\",\"email\":\"jstenger@uvm.edu\",\"created_at\":1753376141,\"updated_at\":1753376141,\"last_emailed\":null,\"last_clicked\":null,\"last_opened\":null,\"first_name\":null,\"last_name\":null}]}\\n'\n"
     ]
    }
   ],
   "source": [
    "# Sendgrid retrieve recipients\n",
    "params = {'page':1, 'page_size':1}\n",
    "response = sg.client.contactdb.recipients.get(query_params=params)\n",
    "print(response.status_code)\n",
    "print(response.body)"
   ]
  },
  {
   "cell_type": "markdown",
   "id": "d49c70c4",
   "metadata": {},
   "source": [
    "parse index.xml to get latest feed item"
   ]
  },
  {
   "cell_type": "code",
   "execution_count": 10,
   "id": "85797e3d",
   "metadata": {},
   "outputs": [
    {
     "name": "stdout",
     "output_type": "stream",
     "text": [
      "newsletter: Post With Code\n",
      "<p>This is a post with executable code.</p>\n"
     ]
    }
   ],
   "source": [
    "import feedparser\n",
    "\n",
    "feed = feedparser.parse('../docs/index.xml')\n",
    "newsletter = feed.entries[0]\n",
    "print(feed.feed.title + \": \" + newsletter.title)\n",
    "print(newsletter.description)"
   ]
  },
  {
   "cell_type": "code",
   "execution_count": 27,
   "id": "91829116",
   "metadata": {},
   "outputs": [
    {
     "name": "stdout",
     "output_type": "stream",
     "text": [
      "202\n",
      "b''\n",
      "Server: nginx\n",
      "Date: Thu, 24 Jul 2025 19:52:43 GMT\n",
      "Content-Length: 0\n",
      "Connection: close\n",
      "X-Message-Id: RXScMViKTOWfq0fFvi1hgA\n",
      "Access-Control-Allow-Origin: https://sendgrid.api-docs.io\n",
      "Access-Control-Allow-Methods: POST\n",
      "Access-Control-Allow-Headers: Authorization, Content-Type, On-behalf-of, x-sg-elas-acl\n",
      "Access-Control-Max-Age: 600\n",
      "X-No-CORS-Reason: https://sendgrid.com/docs/Classroom/Basics/API/cors.html\n",
      "Strict-Transport-Security: max-age=31536000; includeSubDomains\n",
      "Content-Security-Policy: frame-ancestors 'none'\n",
      "Cache-Control: no-cache\n",
      "X-Content-Type-Options: no-sniff\n",
      "Referrer-Policy: strict-origin-when-cross-origin\n",
      "\n",
      "\n"
     ]
    }
   ],
   "source": [
    "import sendgrid\n",
    "import os\n",
    "from sendgrid.helpers.mail import *\n",
    "from dotenv import load_dotenv\n",
    "load_dotenv()\n",
    "sg = sendgrid.SendGridAPIClient(api_key=os.environ.get('SENDGRID_API_KEY'))\n",
    "from_email = Email(\"brad.stenger@gmail.com\")\n",
    "to_email = To(\"jstenger@uvm.edu\")\n",
    "subject = feed.feed.title + \": \" + newsletter.title\n",
    "content = Content(MimeType.html, newsletter.description)\n",
    "mail = Mail(from_email, to_email, subject, content)\n",
    "response = sg.client.mail.send.post(request_body=mail.get())\n",
    "print(response.status_code)\n",
    "print(response.body)\n",
    "print(response.headers)"
   ]
  },
  {
   "cell_type": "code",
   "execution_count": null,
   "id": "f0211fe1",
   "metadata": {},
   "outputs": [],
   "source": []
  }
 ],
 "metadata": {
  "kernelspec": {
   "display_name": "quarto",
   "language": "python",
   "name": "python3"
  },
  "language_info": {
   "codemirror_mode": {
    "name": "ipython",
    "version": 3
   },
   "file_extension": ".py",
   "mimetype": "text/x-python",
   "name": "python",
   "nbconvert_exporter": "python",
   "pygments_lexer": "ipython3",
   "version": "3.12.9"
  }
 },
 "nbformat": 4,
 "nbformat_minor": 5
}
